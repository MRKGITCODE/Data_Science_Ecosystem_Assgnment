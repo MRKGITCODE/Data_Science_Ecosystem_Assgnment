{
 "cells": [
  {
   "cell_type": "code",
   "execution_count": null,
   "id": "0f77b3f4-b4a6-4a76-93b3-a739f1fbaf30",
   "metadata": {},
   "outputs": [],
   "source": [
    "##Exercise 2 - Create a markdown cell with the title of the notebook."
   ]
  },
  {
   "cell_type": "markdown",
   "id": "31bc1094-3944-4bff-98f6-93c10c537594",
   "metadata": {},
   "source": [
    "# Title of the notebook\n",
    "\n",
    " # DataScienceEcosystem "
   ]
  },
  {
   "cell_type": "raw",
   "id": "e96e3045-91f2-4e50-abcf-d580ac5a1c1a",
   "metadata": {},
   "source": [
    "# Exercise 3 - Create a markdown cell for an introduction"
   ]
  },
  {
   "cell_type": "markdown",
   "id": "8729391f-3bd3-4dfe-849b-e9f42dd984b8",
   "metadata": {},
   "source": [
    "# introduction \n",
    "\n",
    " In This Note Book  DATA SCIENCE toola and Ecosystem Sumarized "
   ]
  },
  {
   "cell_type": "markdown",
   "id": "b23bdeac-5fa0-48ce-be8a-314143ad1f0a",
   "metadata": {},
   "source": [
    "#Exercise 4 - Create a markdown cell to list data science languages:"
   ]
  },
  {
   "cell_type": "markdown",
   "id": "810ac076-e14b-4834-8212-6dfb0af1f909",
   "metadata": {},
   "source": [
    "# markdown Following are the list of of data science language \n",
    "1. PYTHON\n",
    "2. R\n",
    "3. SQL\n",
    "4. SCALA\n",
    "5. JULIA\n",
    "6. JAVA\n",
    "7. C++\n"
   ]
  },
  {
   "cell_type": "markdown",
   "id": "7b5952dc-b586-44c2-b19d-5e2e30b227a5",
   "metadata": {},
   "source": [
    "#Exercise 5 - Create a markdown cell to list data science libraries:"
   ]
  },
  {
   "cell_type": "markdown",
   "id": "1a146ee7-ced8-487f-9405-e1b9f330e9ba",
   "metadata": {},
   "source": [
    "# markdown List of data science libraries\n",
    "1. TensorFlow\n",
    "2. NumPy\n",
    "3. SciPy \n",
    "4. Pandas\n",
    "5. Matplotlib \n",
    "6. Keras\n",
    "7. SciKit-Learn\n",
    "8. PyTorch\n",
    "9. Scrapy\n",
    "10. BeautifulSoup"
   ]
  },
  {
   "cell_type": "markdown",
   "id": "2247b4d3-ae18-43b4-8e96-3416726a0bb5",
   "metadata": {},
   "source": [
    "Exercise 6 - Create a markdown cell with a table of Data Science tools:"
   ]
  },
  {
   "cell_type": "markdown",
   "id": "61e2f2b1-0e64-44cc-8170-8ae1df773e57",
   "metadata": {},
   "source": [
    "# markdown Tables of data science tools \n",
    "1. Jupyter Notebook , open sourse\n",
    "2. PyTorch , open sourse\n",
    "3. Ml flow , paid vervion\n",
    "4. Hugging Face , open sourse\n",
    "5. Rapid Miner , paid version\n",
    "6. Knime , open sourse\n",
    "7. Tableau, free and commercial version \n",
    "8. Power BI, free and commercial version \n",
    "9. Ms Excel , free and commercial \n",
    "10. Chat Gpt, open sourse \n",
    "11. Apache Spark, with paid \n",
    "12. Apache Hadoop , with paid "
   ]
  },
  {
   "cell_type": "code",
   "execution_count": null,
   "id": "7d7c2c3e-73bb-4324-b104-f0b11f115456",
   "metadata": {},
   "outputs": [],
   "source": [
    "Exercise 7 - Create a markdown cell introducing arithmetic expression examples:"
   ]
  },
  {
   "cell_type": "markdown",
   "id": "57d2d6ab-ff68-44c3-91fa-c5836a0deec0",
   "metadata": {},
   "source": [
    "#markdown arithmetic expression with examples \n",
    "\n",
    " - 2+2 =4\n",
    " - 4-2 =2\n",
    " - 5*5 =25\n",
    " - 8/4 = 2 "
   ]
  },
  {
   "cell_type": "code",
   "execution_count": null,
   "id": "283a6631-3f2b-4983-a305-32ef9874b4e0",
   "metadata": {},
   "outputs": [],
   "source": [
    "# Exercise 8 - Create a code cell to multiply and add numbers."
   ]
  },
  {
   "cell_type": "code",
   "execution_count": 1,
   "id": "387abc6b-c3f6-4bdc-bce5-e47197573912",
   "metadata": {
    "tags": []
   },
   "outputs": [
    {
     "name": "stdout",
     "output_type": "stream",
     "text": [
      "The product of 5 and 10 is 50\n",
      "The sum of 5 and 10 is 15\n"
     ]
    }
   ],
   "source": [
    "#code multiply and add numbers \n",
    "x = 5\n",
    "y= 10\n",
    "\n",
    "# Multiply the numbers\n",
    "product = x*y\n",
    "\n",
    "# Add the numbers\n",
    "sum = x+y\n",
    "\n",
    "# Print the results\n",
    "print(\"The product of\", x, \"and\", y, \"is\", product)\n",
    "print(\"The sum of\", x, \"and\", y, \"is\", sum)"
   ]
  },
  {
   "cell_type": "code",
   "execution_count": null,
   "id": "41895eec-9cf4-403d-aab2-ed49a7b08fcc",
   "metadata": {},
   "outputs": [],
   "source": [
    "#Exercise 9 - Create a code cell to convert minutes to hours."
   ]
  },
  {
   "cell_type": "code",
   "execution_count": 2,
   "id": "3f97e1d3-d985-4898-8e36-110bddcf880d",
   "metadata": {
    "tags": []
   },
   "outputs": [
    {
     "name": "stdout",
     "output_type": "stream",
     "text": [
      "120  is equal to 2.0 hour\n"
     ]
    }
   ],
   "source": [
    "#convert minutes to hours\n",
    "minutes=120\n",
    "hour= minutes/60\n",
    "print (minutes, \" is equal to\", hour ,\"hour\")"
   ]
  },
  {
   "cell_type": "raw",
   "id": "0fa0ec64-8fba-4cff-a7db-09f51a0b8484",
   "metadata": {},
   "source": [
    "Exercise 10 -Insert a markdown cell to list Objectives:"
   ]
  },
  {
   "cell_type": "markdown",
   "id": "d4465e1f-ba68-43af-87b2-77eff5732d0f",
   "metadata": {},
   "source": [
    "#markdown list of objectives \n",
    "## Objectives:\\n\\n\" + \"\\n\".join([f\"- {o}\" for o in objectives])"
   ]
  },
  {
   "cell_type": "raw",
   "id": "248c6140-3f66-44c9-a959-0eb9b2d21a0f",
   "metadata": {},
   "source": [
    "Exercise 11 - Create a markdown cell to indicate the Author’s name."
   ]
  },
  {
   "cell_type": "markdown",
   "id": "12330b86-26ff-4865-a004-bfc2cc9a36db",
   "metadata": {},
   "source": [
    "#author´s name \n",
    "\n",
    " 1.Lakshmi Holla  &\n",
    " \n",
    " 2.Niveditha Pandith"
   ]
  },
  {
   "cell_type": "raw",
   "id": "adc37af9-aa53-4f9e-817f-0939e28fc31c",
   "metadata": {},
   "source": [
    "#Exercise 12 - Share your notebook through GitHub"
   ]
  },
  {
   "cell_type": "markdown",
   "id": "cbb714ca-ef0f-4159-8018-ff1b546d3de9",
   "metadata": {},
   "source": [
    "#share notebook through github link\n",
    "\n",
    "link :https://github.com/MRKGITCODE/Data_Science_Ecosystem_Assignment/import"
   ]
  },
  {
   "cell_type": "code",
   "execution_count": null,
   "id": "a3e05e00-310e-4fd5-9009-d0e7da97534c",
   "metadata": {},
   "outputs": [],
   "source": [
    "#Exercise 13 - Take a screenshot of the first page of the notebook\n",
    "\n",
    "#\"C:\\Users\\ibast\\Downloads\\Data_Science_Ecosystem.ipynb\"\n"
   ]
  },
  {
   "cell_type": "code",
   "execution_count": null,
   "id": "33ac4e45-eaaa-4a66-b835-80e2c0cd9c0f",
   "metadata": {},
   "outputs": [],
   "source": []
  }
 ],
 "metadata": {
  "kernelspec": {
   "display_name": "Python",
   "language": "python",
   "name": "conda-env-python-py"
  },
  "language_info": {
   "codemirror_mode": {
    "name": "ipython",
    "version": 3
   },
   "file_extension": ".py",
   "mimetype": "text/x-python",
   "name": "python",
   "nbconvert_exporter": "python",
   "pygments_lexer": "ipython3",
   "version": "3.7.12"
  }
 },
 "nbformat": 4,
 "nbformat_minor": 5
}
